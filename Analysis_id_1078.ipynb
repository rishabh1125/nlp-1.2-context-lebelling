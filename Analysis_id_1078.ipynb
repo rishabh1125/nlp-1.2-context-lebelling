{
 "cells": [
  {
   "cell_type": "code",
   "execution_count": 2,
   "metadata": {},
   "outputs": [],
   "source": [
    "import pandas as pd"
   ]
  },
  {
   "cell_type": "markdown",
   "metadata": {},
   "source": [
    "# Data ingestion and analysis"
   ]
  },
  {
   "cell_type": "code",
   "execution_count": 3,
   "metadata": {},
   "outputs": [
    {
     "data": {
      "text/html": [
       "<div>\n",
       "<style scoped>\n",
       "    .dataframe tbody tr th:only-of-type {\n",
       "        vertical-align: middle;\n",
       "    }\n",
       "\n",
       "    .dataframe tbody tr th {\n",
       "        vertical-align: top;\n",
       "    }\n",
       "\n",
       "    .dataframe thead th {\n",
       "        text-align: right;\n",
       "    }\n",
       "</style>\n",
       "<table border=\"1\" class=\"dataframe\">\n",
       "  <thead>\n",
       "    <tr style=\"text-align: right;\">\n",
       "      <th></th>\n",
       "      <th>Clothing ID</th>\n",
       "      <th>Age</th>\n",
       "      <th>Title</th>\n",
       "      <th>Review Text</th>\n",
       "      <th>Rating</th>\n",
       "      <th>Recommended IND</th>\n",
       "      <th>Positive Feedback Count</th>\n",
       "      <th>Division Name</th>\n",
       "      <th>Department Name</th>\n",
       "      <th>Class Name</th>\n",
       "    </tr>\n",
       "  </thead>\n",
       "  <tbody>\n",
       "    <tr>\n",
       "      <th>0</th>\n",
       "      <td>767</td>\n",
       "      <td>33</td>\n",
       "      <td>NaN</td>\n",
       "      <td>Absolutely wonderful - silky and sexy and comf...</td>\n",
       "      <td>4</td>\n",
       "      <td>1</td>\n",
       "      <td>0</td>\n",
       "      <td>Initmates</td>\n",
       "      <td>Intimate</td>\n",
       "      <td>Intimates</td>\n",
       "    </tr>\n",
       "    <tr>\n",
       "      <th>1</th>\n",
       "      <td>1080</td>\n",
       "      <td>34</td>\n",
       "      <td>NaN</td>\n",
       "      <td>Love this dress!  it's sooo pretty.  i happene...</td>\n",
       "      <td>5</td>\n",
       "      <td>1</td>\n",
       "      <td>4</td>\n",
       "      <td>General</td>\n",
       "      <td>Dresses</td>\n",
       "      <td>Dresses</td>\n",
       "    </tr>\n",
       "    <tr>\n",
       "      <th>2</th>\n",
       "      <td>1077</td>\n",
       "      <td>60</td>\n",
       "      <td>Some major design flaws</td>\n",
       "      <td>I had such high hopes for this dress and reall...</td>\n",
       "      <td>3</td>\n",
       "      <td>0</td>\n",
       "      <td>0</td>\n",
       "      <td>General</td>\n",
       "      <td>Dresses</td>\n",
       "      <td>Dresses</td>\n",
       "    </tr>\n",
       "    <tr>\n",
       "      <th>3</th>\n",
       "      <td>1049</td>\n",
       "      <td>50</td>\n",
       "      <td>My favorite buy!</td>\n",
       "      <td>I love, love, love this jumpsuit. it's fun, fl...</td>\n",
       "      <td>5</td>\n",
       "      <td>1</td>\n",
       "      <td>0</td>\n",
       "      <td>General Petite</td>\n",
       "      <td>Bottoms</td>\n",
       "      <td>Pants</td>\n",
       "    </tr>\n",
       "    <tr>\n",
       "      <th>4</th>\n",
       "      <td>847</td>\n",
       "      <td>47</td>\n",
       "      <td>Flattering shirt</td>\n",
       "      <td>This shirt is very flattering to all due to th...</td>\n",
       "      <td>5</td>\n",
       "      <td>1</td>\n",
       "      <td>6</td>\n",
       "      <td>General</td>\n",
       "      <td>Tops</td>\n",
       "      <td>Blouses</td>\n",
       "    </tr>\n",
       "  </tbody>\n",
       "</table>\n",
       "</div>"
      ],
      "text/plain": [
       "   Clothing ID  Age                    Title  \\\n",
       "0          767   33                      NaN   \n",
       "1         1080   34                      NaN   \n",
       "2         1077   60  Some major design flaws   \n",
       "3         1049   50         My favorite buy!   \n",
       "4          847   47         Flattering shirt   \n",
       "\n",
       "                                         Review Text  Rating  Recommended IND  \\\n",
       "0  Absolutely wonderful - silky and sexy and comf...       4                1   \n",
       "1  Love this dress!  it's sooo pretty.  i happene...       5                1   \n",
       "2  I had such high hopes for this dress and reall...       3                0   \n",
       "3  I love, love, love this jumpsuit. it's fun, fl...       5                1   \n",
       "4  This shirt is very flattering to all due to th...       5                1   \n",
       "\n",
       "   Positive Feedback Count   Division Name Department Name Class Name  \n",
       "0                        0       Initmates        Intimate  Intimates  \n",
       "1                        4         General         Dresses    Dresses  \n",
       "2                        0         General         Dresses    Dresses  \n",
       "3                        0  General Petite         Bottoms      Pants  \n",
       "4                        6         General            Tops    Blouses  "
      ]
     },
     "execution_count": 3,
     "metadata": {},
     "output_type": "execute_result"
    }
   ],
   "source": [
    "# data ingestion\n",
    "dataframe= pd.read_csv('Womens Clothing E-Commerce Reviews.csv',index_col=0)\n",
    "dataframe.head()"
   ]
  },
  {
   "cell_type": "code",
   "execution_count": 4,
   "metadata": {},
   "outputs": [
    {
     "data": {
      "text/plain": [
       "(23486, 10)"
      ]
     },
     "execution_count": 4,
     "metadata": {},
     "output_type": "execute_result"
    }
   ],
   "source": [
    "dataframe.shape"
   ]
  },
  {
   "cell_type": "code",
   "execution_count": 5,
   "metadata": {},
   "outputs": [
    {
     "data": {
      "text/plain": [
       "(1024, 10)"
      ]
     },
     "execution_count": 5,
     "metadata": {},
     "output_type": "execute_result"
    }
   ],
   "source": [
    "# data filtering to get data only for Clothing ID 1078 for analysis\n",
    "df = dataframe[dataframe['Clothing ID'] == 1078]\n",
    "df.shape\n",
    "\n"
   ]
  },
  {
   "cell_type": "code",
   "execution_count": 6,
   "metadata": {},
   "outputs": [
    {
     "data": {
      "text/html": [
       "<div>\n",
       "<style scoped>\n",
       "    .dataframe tbody tr th:only-of-type {\n",
       "        vertical-align: middle;\n",
       "    }\n",
       "\n",
       "    .dataframe tbody tr th {\n",
       "        vertical-align: top;\n",
       "    }\n",
       "\n",
       "    .dataframe thead th {\n",
       "        text-align: right;\n",
       "    }\n",
       "</style>\n",
       "<table border=\"1\" class=\"dataframe\">\n",
       "  <thead>\n",
       "    <tr style=\"text-align: right;\">\n",
       "      <th></th>\n",
       "      <th>Clothing ID</th>\n",
       "      <th>Division Name</th>\n",
       "    </tr>\n",
       "  </thead>\n",
       "  <tbody>\n",
       "    <tr>\n",
       "      <th>69</th>\n",
       "      <td>1078</td>\n",
       "      <td>General Petite</td>\n",
       "    </tr>\n",
       "    <tr>\n",
       "      <th>90</th>\n",
       "      <td>1078</td>\n",
       "      <td>General Petite</td>\n",
       "    </tr>\n",
       "    <tr>\n",
       "      <th>117</th>\n",
       "      <td>1078</td>\n",
       "      <td>General Petite</td>\n",
       "    </tr>\n",
       "    <tr>\n",
       "      <th>467</th>\n",
       "      <td>1078</td>\n",
       "      <td>General</td>\n",
       "    </tr>\n",
       "    <tr>\n",
       "      <th>470</th>\n",
       "      <td>1078</td>\n",
       "      <td>General</td>\n",
       "    </tr>\n",
       "    <tr>\n",
       "      <th>...</th>\n",
       "      <td>...</td>\n",
       "      <td>...</td>\n",
       "    </tr>\n",
       "    <tr>\n",
       "      <th>22994</th>\n",
       "      <td>1078</td>\n",
       "      <td>General Petite</td>\n",
       "    </tr>\n",
       "    <tr>\n",
       "      <th>22998</th>\n",
       "      <td>1078</td>\n",
       "      <td>General Petite</td>\n",
       "    </tr>\n",
       "    <tr>\n",
       "      <th>23004</th>\n",
       "      <td>1078</td>\n",
       "      <td>General</td>\n",
       "    </tr>\n",
       "    <tr>\n",
       "      <th>23460</th>\n",
       "      <td>1078</td>\n",
       "      <td>General</td>\n",
       "    </tr>\n",
       "    <tr>\n",
       "      <th>23465</th>\n",
       "      <td>1078</td>\n",
       "      <td>General</td>\n",
       "    </tr>\n",
       "  </tbody>\n",
       "</table>\n",
       "<p>1024 rows × 2 columns</p>\n",
       "</div>"
      ],
      "text/plain": [
       "       Clothing ID   Division Name\n",
       "69            1078  General Petite\n",
       "90            1078  General Petite\n",
       "117           1078  General Petite\n",
       "467           1078         General\n",
       "470           1078         General\n",
       "...            ...             ...\n",
       "22994         1078  General Petite\n",
       "22998         1078  General Petite\n",
       "23004         1078         General\n",
       "23460         1078         General\n",
       "23465         1078         General\n",
       "\n",
       "[1024 rows x 2 columns]"
      ]
     },
     "execution_count": 6,
     "metadata": {},
     "output_type": "execute_result"
    }
   ],
   "source": [
    "df[['Clothing ID','Division Name']]"
   ]
  },
  {
   "cell_type": "code",
   "execution_count": 7,
   "metadata": {},
   "outputs": [
    {
     "data": {
      "text/html": [
       "<div>\n",
       "<style scoped>\n",
       "    .dataframe tbody tr th:only-of-type {\n",
       "        vertical-align: middle;\n",
       "    }\n",
       "\n",
       "    .dataframe tbody tr th {\n",
       "        vertical-align: top;\n",
       "    }\n",
       "\n",
       "    .dataframe thead th {\n",
       "        text-align: right;\n",
       "    }\n",
       "</style>\n",
       "<table border=\"1\" class=\"dataframe\">\n",
       "  <thead>\n",
       "    <tr style=\"text-align: right;\">\n",
       "      <th></th>\n",
       "      <th>Clothing ID</th>\n",
       "      <th>Age</th>\n",
       "      <th>Title</th>\n",
       "      <th>Review Text</th>\n",
       "      <th>Rating</th>\n",
       "      <th>Recommended IND</th>\n",
       "      <th>Positive Feedback Count</th>\n",
       "      <th>Division Name</th>\n",
       "      <th>Department Name</th>\n",
       "      <th>Class Name</th>\n",
       "    </tr>\n",
       "  </thead>\n",
       "  <tbody>\n",
       "    <tr>\n",
       "      <th>69</th>\n",
       "      <td>1078</td>\n",
       "      <td>56</td>\n",
       "      <td>Great summer fabric!</td>\n",
       "      <td>I really wanted this to work. alas, it had a s...</td>\n",
       "      <td>3</td>\n",
       "      <td>0</td>\n",
       "      <td>1</td>\n",
       "      <td>General Petite</td>\n",
       "      <td>Dresses</td>\n",
       "      <td>Dresses</td>\n",
       "    </tr>\n",
       "    <tr>\n",
       "      <th>90</th>\n",
       "      <td>1078</td>\n",
       "      <td>51</td>\n",
       "      <td>Sweet flattering dress</td>\n",
       "      <td>I love cute summer dresses and this one, espec...</td>\n",
       "      <td>4</td>\n",
       "      <td>1</td>\n",
       "      <td>0</td>\n",
       "      <td>General Petite</td>\n",
       "      <td>Dresses</td>\n",
       "      <td>Dresses</td>\n",
       "    </tr>\n",
       "    <tr>\n",
       "      <th>117</th>\n",
       "      <td>1078</td>\n",
       "      <td>32</td>\n",
       "      <td>NaN</td>\n",
       "      <td>This is the perfect summer dress. it can be dr...</td>\n",
       "      <td>5</td>\n",
       "      <td>1</td>\n",
       "      <td>2</td>\n",
       "      <td>General Petite</td>\n",
       "      <td>Dresses</td>\n",
       "      <td>Dresses</td>\n",
       "    </tr>\n",
       "    <tr>\n",
       "      <th>467</th>\n",
       "      <td>1078</td>\n",
       "      <td>61</td>\n",
       "      <td>Great sweater dress!</td>\n",
       "      <td>Nice fit and flare style, not clingy at all. i...</td>\n",
       "      <td>5</td>\n",
       "      <td>1</td>\n",
       "      <td>1</td>\n",
       "      <td>General</td>\n",
       "      <td>Dresses</td>\n",
       "      <td>Dresses</td>\n",
       "    </tr>\n",
       "    <tr>\n",
       "      <th>470</th>\n",
       "      <td>1078</td>\n",
       "      <td>33</td>\n",
       "      <td>Cute, but cheap</td>\n",
       "      <td>When i first opened this dress and tried it on...</td>\n",
       "      <td>3</td>\n",
       "      <td>0</td>\n",
       "      <td>0</td>\n",
       "      <td>General</td>\n",
       "      <td>Dresses</td>\n",
       "      <td>Dresses</td>\n",
       "    </tr>\n",
       "  </tbody>\n",
       "</table>\n",
       "</div>"
      ],
      "text/plain": [
       "     Clothing ID  Age                   Title  \\\n",
       "69          1078   56    Great summer fabric!   \n",
       "90          1078   51  Sweet flattering dress   \n",
       "117         1078   32                     NaN   \n",
       "467         1078   61    Great sweater dress!   \n",
       "470         1078   33         Cute, but cheap   \n",
       "\n",
       "                                           Review Text  Rating  \\\n",
       "69   I really wanted this to work. alas, it had a s...       3   \n",
       "90   I love cute summer dresses and this one, espec...       4   \n",
       "117  This is the perfect summer dress. it can be dr...       5   \n",
       "467  Nice fit and flare style, not clingy at all. i...       5   \n",
       "470  When i first opened this dress and tried it on...       3   \n",
       "\n",
       "     Recommended IND  Positive Feedback Count   Division Name Department Name  \\\n",
       "69                 0                        1  General Petite         Dresses   \n",
       "90                 1                        0  General Petite         Dresses   \n",
       "117                1                        2  General Petite         Dresses   \n",
       "467                1                        1         General         Dresses   \n",
       "470                0                        0         General         Dresses   \n",
       "\n",
       "    Class Name  \n",
       "69     Dresses  \n",
       "90     Dresses  \n",
       "117    Dresses  \n",
       "467    Dresses  \n",
       "470    Dresses  "
      ]
     },
     "execution_count": 7,
     "metadata": {},
     "output_type": "execute_result"
    }
   ],
   "source": [
    "df.head()"
   ]
  },
  {
   "cell_type": "code",
   "execution_count": 8,
   "metadata": {},
   "outputs": [
    {
     "data": {
      "text/plain": [
       "Clothing ID                1024\n",
       "Age                        1024\n",
       "Title                       871\n",
       "Review Text                 987\n",
       "Rating                     1024\n",
       "Recommended IND            1024\n",
       "Positive Feedback Count    1024\n",
       "Division Name              1024\n",
       "Department Name            1024\n",
       "Class Name                 1024\n",
       "dtype: int64"
      ]
     },
     "execution_count": 8,
     "metadata": {},
     "output_type": "execute_result"
    }
   ],
   "source": [
    "df.count()"
   ]
  },
  {
   "cell_type": "markdown",
   "metadata": {},
   "source": [
    "Out of 1024 rows, only 871 have title and 987 have review text. Thus checking if there exists any with both title & review text missing"
   ]
  },
  {
   "cell_type": "code",
   "execution_count": 9,
   "metadata": {},
   "outputs": [
    {
     "name": "stdout",
     "output_type": "stream",
     "text": [
      "->Shape of null value dataframe: (37, 10)\n"
     ]
    },
    {
     "data": {
      "text/html": [
       "<div>\n",
       "<style scoped>\n",
       "    .dataframe tbody tr th:only-of-type {\n",
       "        vertical-align: middle;\n",
       "    }\n",
       "\n",
       "    .dataframe tbody tr th {\n",
       "        vertical-align: top;\n",
       "    }\n",
       "\n",
       "    .dataframe thead th {\n",
       "        text-align: right;\n",
       "    }\n",
       "</style>\n",
       "<table border=\"1\" class=\"dataframe\">\n",
       "  <thead>\n",
       "    <tr style=\"text-align: right;\">\n",
       "      <th></th>\n",
       "      <th>Clothing ID</th>\n",
       "      <th>Age</th>\n",
       "      <th>Title</th>\n",
       "      <th>Review Text</th>\n",
       "      <th>Rating</th>\n",
       "      <th>Recommended IND</th>\n",
       "      <th>Positive Feedback Count</th>\n",
       "      <th>Division Name</th>\n",
       "      <th>Department Name</th>\n",
       "      <th>Class Name</th>\n",
       "    </tr>\n",
       "  </thead>\n",
       "  <tbody>\n",
       "    <tr>\n",
       "      <th>554</th>\n",
       "      <td>1078</td>\n",
       "      <td>45</td>\n",
       "      <td>NaN</td>\n",
       "      <td>NaN</td>\n",
       "      <td>5</td>\n",
       "      <td>1</td>\n",
       "      <td>0</td>\n",
       "      <td>General</td>\n",
       "      <td>Dresses</td>\n",
       "      <td>Dresses</td>\n",
       "    </tr>\n",
       "    <tr>\n",
       "      <th>3976</th>\n",
       "      <td>1078</td>\n",
       "      <td>35</td>\n",
       "      <td>NaN</td>\n",
       "      <td>NaN</td>\n",
       "      <td>5</td>\n",
       "      <td>1</td>\n",
       "      <td>0</td>\n",
       "      <td>General</td>\n",
       "      <td>Dresses</td>\n",
       "      <td>Dresses</td>\n",
       "    </tr>\n",
       "    <tr>\n",
       "      <th>4308</th>\n",
       "      <td>1078</td>\n",
       "      <td>29</td>\n",
       "      <td>NaN</td>\n",
       "      <td>NaN</td>\n",
       "      <td>5</td>\n",
       "      <td>1</td>\n",
       "      <td>0</td>\n",
       "      <td>General</td>\n",
       "      <td>Dresses</td>\n",
       "      <td>Dresses</td>\n",
       "    </tr>\n",
       "    <tr>\n",
       "      <th>4370</th>\n",
       "      <td>1078</td>\n",
       "      <td>40</td>\n",
       "      <td>NaN</td>\n",
       "      <td>NaN</td>\n",
       "      <td>5</td>\n",
       "      <td>1</td>\n",
       "      <td>0</td>\n",
       "      <td>General</td>\n",
       "      <td>Dresses</td>\n",
       "      <td>Dresses</td>\n",
       "    </tr>\n",
       "    <tr>\n",
       "      <th>4441</th>\n",
       "      <td>1078</td>\n",
       "      <td>69</td>\n",
       "      <td>NaN</td>\n",
       "      <td>NaN</td>\n",
       "      <td>5</td>\n",
       "      <td>1</td>\n",
       "      <td>0</td>\n",
       "      <td>General</td>\n",
       "      <td>Dresses</td>\n",
       "      <td>Dresses</td>\n",
       "    </tr>\n",
       "  </tbody>\n",
       "</table>\n",
       "</div>"
      ],
      "text/plain": [
       "      Clothing ID  Age Title Review Text  Rating  Recommended IND  \\\n",
       "554          1078   45   NaN         NaN       5                1   \n",
       "3976         1078   35   NaN         NaN       5                1   \n",
       "4308         1078   29   NaN         NaN       5                1   \n",
       "4370         1078   40   NaN         NaN       5                1   \n",
       "4441         1078   69   NaN         NaN       5                1   \n",
       "\n",
       "      Positive Feedback Count Division Name Department Name Class Name  \n",
       "554                         0       General         Dresses    Dresses  \n",
       "3976                        0       General         Dresses    Dresses  \n",
       "4308                        0       General         Dresses    Dresses  \n",
       "4370                        0       General         Dresses    Dresses  \n",
       "4441                        0       General         Dresses    Dresses  "
      ]
     },
     "execution_count": 9,
     "metadata": {},
     "output_type": "execute_result"
    }
   ],
   "source": [
    "df_null = df[df['Title'].isnull() & df['Review Text'].isnull()]\n",
    "print(\"->Shape of null value dataframe:\",df_null.shape)\n",
    "df_null.head()"
   ]
  },
  {
   "cell_type": "markdown",
   "metadata": {},
   "source": [
    "So there are 37 values where both Title and Review Text are absent, we shall be classifying such as seperately as \"No text to claasify\""
   ]
  },
  {
   "cell_type": "markdown",
   "metadata": {},
   "source": [
    "Done, Now we will be building a new column to df where we merge text feedbacks fields (Title & Review Text)"
   ]
  },
  {
   "cell_type": "markdown",
   "metadata": {},
   "source": [
    "# Extracting label to create corpus and extract labels "
   ]
  },
  {
   "cell_type": "code",
   "execution_count": 10,
   "metadata": {},
   "outputs": [
    {
     "data": {
      "text/html": [
       "<div>\n",
       "<style scoped>\n",
       "    .dataframe tbody tr th:only-of-type {\n",
       "        vertical-align: middle;\n",
       "    }\n",
       "\n",
       "    .dataframe tbody tr th {\n",
       "        vertical-align: top;\n",
       "    }\n",
       "\n",
       "    .dataframe thead th {\n",
       "        text-align: right;\n",
       "    }\n",
       "</style>\n",
       "<table border=\"1\" class=\"dataframe\">\n",
       "  <thead>\n",
       "    <tr style=\"text-align: right;\">\n",
       "      <th></th>\n",
       "      <th>Clothing ID</th>\n",
       "      <th>Age</th>\n",
       "      <th>Title</th>\n",
       "      <th>Review Text</th>\n",
       "      <th>Rating</th>\n",
       "      <th>Recommended IND</th>\n",
       "      <th>Positive Feedback Count</th>\n",
       "      <th>Division Name</th>\n",
       "      <th>Department Name</th>\n",
       "      <th>Class Name</th>\n",
       "      <th>joint_feedback</th>\n",
       "    </tr>\n",
       "  </thead>\n",
       "  <tbody>\n",
       "    <tr>\n",
       "      <th>69</th>\n",
       "      <td>1078</td>\n",
       "      <td>56</td>\n",
       "      <td>Great summer fabric!</td>\n",
       "      <td>I really wanted this to work. alas, it had a s...</td>\n",
       "      <td>3</td>\n",
       "      <td>0</td>\n",
       "      <td>1</td>\n",
       "      <td>General Petite</td>\n",
       "      <td>Dresses</td>\n",
       "      <td>Dresses</td>\n",
       "      <td>Great summer fabric! I really wanted this to w...</td>\n",
       "    </tr>\n",
       "    <tr>\n",
       "      <th>90</th>\n",
       "      <td>1078</td>\n",
       "      <td>51</td>\n",
       "      <td>Sweet flattering dress</td>\n",
       "      <td>I love cute summer dresses and this one, espec...</td>\n",
       "      <td>4</td>\n",
       "      <td>1</td>\n",
       "      <td>0</td>\n",
       "      <td>General Petite</td>\n",
       "      <td>Dresses</td>\n",
       "      <td>Dresses</td>\n",
       "      <td>Sweet flattering dress I love cute summer dres...</td>\n",
       "    </tr>\n",
       "    <tr>\n",
       "      <th>117</th>\n",
       "      <td>1078</td>\n",
       "      <td>32</td>\n",
       "      <td></td>\n",
       "      <td>This is the perfect summer dress. it can be dr...</td>\n",
       "      <td>5</td>\n",
       "      <td>1</td>\n",
       "      <td>2</td>\n",
       "      <td>General Petite</td>\n",
       "      <td>Dresses</td>\n",
       "      <td>Dresses</td>\n",
       "      <td>This is the perfect summer dress. it can be d...</td>\n",
       "    </tr>\n",
       "    <tr>\n",
       "      <th>467</th>\n",
       "      <td>1078</td>\n",
       "      <td>61</td>\n",
       "      <td>Great sweater dress!</td>\n",
       "      <td>Nice fit and flare style, not clingy at all. i...</td>\n",
       "      <td>5</td>\n",
       "      <td>1</td>\n",
       "      <td>1</td>\n",
       "      <td>General</td>\n",
       "      <td>Dresses</td>\n",
       "      <td>Dresses</td>\n",
       "      <td>Great sweater dress! Nice fit and flare style,...</td>\n",
       "    </tr>\n",
       "    <tr>\n",
       "      <th>470</th>\n",
       "      <td>1078</td>\n",
       "      <td>33</td>\n",
       "      <td>Cute, but cheap</td>\n",
       "      <td>When i first opened this dress and tried it on...</td>\n",
       "      <td>3</td>\n",
       "      <td>0</td>\n",
       "      <td>0</td>\n",
       "      <td>General</td>\n",
       "      <td>Dresses</td>\n",
       "      <td>Dresses</td>\n",
       "      <td>Cute, but cheap When i first opened this dress...</td>\n",
       "    </tr>\n",
       "  </tbody>\n",
       "</table>\n",
       "</div>"
      ],
      "text/plain": [
       "     Clothing ID  Age                   Title  \\\n",
       "69          1078   56    Great summer fabric!   \n",
       "90          1078   51  Sweet flattering dress   \n",
       "117         1078   32                           \n",
       "467         1078   61    Great sweater dress!   \n",
       "470         1078   33         Cute, but cheap   \n",
       "\n",
       "                                           Review Text  Rating  \\\n",
       "69   I really wanted this to work. alas, it had a s...       3   \n",
       "90   I love cute summer dresses and this one, espec...       4   \n",
       "117  This is the perfect summer dress. it can be dr...       5   \n",
       "467  Nice fit and flare style, not clingy at all. i...       5   \n",
       "470  When i first opened this dress and tried it on...       3   \n",
       "\n",
       "     Recommended IND  Positive Feedback Count   Division Name Department Name  \\\n",
       "69                 0                        1  General Petite         Dresses   \n",
       "90                 1                        0  General Petite         Dresses   \n",
       "117                1                        2  General Petite         Dresses   \n",
       "467                1                        1         General         Dresses   \n",
       "470                0                        0         General         Dresses   \n",
       "\n",
       "    Class Name                                     joint_feedback  \n",
       "69     Dresses  Great summer fabric! I really wanted this to w...  \n",
       "90     Dresses  Sweet flattering dress I love cute summer dres...  \n",
       "117    Dresses   This is the perfect summer dress. it can be d...  \n",
       "467    Dresses  Great sweater dress! Nice fit and flare style,...  \n",
       "470    Dresses  Cute, but cheap When i first opened this dress...  "
      ]
     },
     "execution_count": 10,
     "metadata": {},
     "output_type": "execute_result"
    }
   ],
   "source": [
    "df = df.fillna(\"\")\n",
    "df['joint_feedback'] = df['Title'] +' '+ df['Review Text']\n",
    "df.head()"
   ]
  },
  {
   "cell_type": "code",
   "execution_count": 11,
   "metadata": {},
   "outputs": [
    {
     "name": "stderr",
     "output_type": "stream",
     "text": [
      "[nltk_data] Downloading package stopwords to\n",
      "[nltk_data]     C:\\Users\\prish\\AppData\\Roaming\\nltk_data...\n",
      "[nltk_data]   Package stopwords is already up-to-date!\n",
      "[nltk_data] Downloading package wordnet to\n",
      "[nltk_data]     C:\\Users\\prish\\AppData\\Roaming\\nltk_data...\n",
      "[nltk_data]   Package wordnet is already up-to-date!\n",
      "[nltk_data] Downloading package omw-1.4 to\n",
      "[nltk_data]     C:\\Users\\prish\\AppData\\Roaming\\nltk_data...\n",
      "[nltk_data]   Package omw-1.4 is already up-to-date!\n"
     ]
    }
   ],
   "source": [
    "import re\n",
    "import nltk\n",
    "nltk.download('stopwords')\n",
    "from nltk.corpus import stopwords\n",
    "from nltk.stem import WordNetLemmatizer\n",
    "nltk.download(\"wordnet\")\n",
    "nltk.download(\"omw-1.4\")\n",
    "\n",
    "wnl = WordNetLemmatizer()\n",
    "corpus = []\n",
    "for i in df.index:\n",
    "    review = re.sub('[^a-zA-Z]', ' ', df['joint_feedback'][i])\n",
    "    review = review.lower()\n",
    "    review = review.split()\n",
    "    review = [wnl.lemmatize(word, pos=\"v\") for word in review]\n",
    "    review = ' '.join(review)\n",
    "    corpus.append(review)"
   ]
  },
  {
   "cell_type": "code",
   "execution_count": 12,
   "metadata": {},
   "outputs": [
    {
     "name": "stdout",
     "output_type": "stream",
     "text": [
      "Great summer fabric! I really wanted this to work. alas, it had a strange fit for me. the straps would not stay up, and it had a weird fit under the breast. it worked standing up, but the minute i sat down it fell off my shoulders. the fabric was beautiful! and i loved that it had pockets.\n",
      "great summer fabric i really want this to work alas it have a strange fit for me the strap would not stay up and it have a weird fit under the breast it work stand up but the minute i sit down it fell off my shoulder the fabric be beautiful and i love that it have pocket\n"
     ]
    }
   ],
   "source": [
    "print(df['joint_feedback'][69])\n",
    "print(corpus[0])"
   ]
  },
  {
   "cell_type": "code",
   "execution_count": 13,
   "metadata": {},
   "outputs": [],
   "source": [
    "import spacy\n",
    "\n",
    "labels = dict()\n",
    "temp =[] \n",
    "nlp = spacy.load(\"en_core_web_sm\")\n",
    "for sentence in corpus :\n",
    "  doc = nlp(sentence)\n",
    "  temp.clear()\n",
    "  for token in doc:\n",
    "      if str(token.dep_) == 'amod':\n",
    "               tag= str(token.text)+ \" \" + str(token.head.text)\n",
    "               temp.append(tag)\n",
    "               if tag in labels:\n",
    "                     labels[tag] += 1\n",
    "               else:\n",
    "                     labels[tag] = 1\n",
    "      "
   ]
  },
  {
   "cell_type": "code",
   "execution_count": 14,
   "metadata": {},
   "outputs": [
    {
     "name": "stdout",
     "output_type": "stream",
     "text": [
      "{'great fabric': 5, 'flatter dress': 4, 'cute dress': 34, 'perfect dress': 32, 'great dress': 71, 'nice style': 3, 'fit style': 3, 'fit perfect': 8, 'other review': 18, 'fun dress': 8, 'easy dress': 13, 'mid thigh': 3, 'regular xs': 8, 'knit dress': 4, 'long sleeves': 4, 'fit flare': 4, 'beautiful color': 8, 'small petite': 3, 'pretty fabric': 4, 'nice dress': 14, 'only problem': 4, 'local store': 10, 'blue dress': 6, 'blue one': 4, 'fit be': 5, 'petite size': 19, 'first time': 14, 'small frame': 3, 'lovely dress': 15, 'beautiful dress': 57, 'nice fabric': 5, 'casual dress': 8, 'tunic dress': 4, 'comfortable dress': 17, 'other color': 8, 'comfortable flatter': 4, 'high quality': 15, 'loose bite': 5, 'more color': 10, 'jean jacket': 6, 'good quality': 7, 'most dress': 3, 'right place': 8, 'maxi dress': 8, 'new dress': 8, 'many compliment': 22, 'great piece': 5, 'next year': 3, 'other reviewers': 30, 'gorgeous detail': 3, 'sheer sleeves': 5, 'soft material': 4, 'same time': 9, 'nice detail': 8, 'typical size': 3, 'real life': 5, 'soft fabric': 7, 'more room': 3, 'good way': 6, 'regular size': 15, 'unflattering way': 3, 'normal size': 11, 'much fabric': 17, 'perfect fit': 11, 'simple dress': 3, 'high heel': 4, 'pretty dress': 8, 'large chest': 5, 'nice touch': 6, 'regular s': 3, 'loose fit': 4, 'great length': 7, 'short length': 3, 'outer layer': 4, 'great color': 9, 'upper body': 5, 'red color': 6, 'gorgeous dress': 12, 'bad fit': 3, 'first sight': 4, 'full price': 8, 'fit dress': 7, 'feminine dress': 5, 'large bust': 4, 'small size': 4, 'other dress': 11, 'new favorite': 4, 'first day': 3, 'beautiful detail': 4, 'only complaint': 8, 'blue motif': 7, 'medium fit': 3, 'perfect length': 8, 'many people': 3, 'little tight': 3, 'few inch': 4, 'little large': 5, 'neutral color': 4, 'beautiful fabric': 6, 'small fit': 5, 'local retailer': 6, 'other pattern': 3, 'brown boot': 3, 'different size': 3, 'little snug': 5, 'super dress': 3, 'fit sleeves': 3, 'good dress': 4, 'great quality': 10, 'light weight': 3, 'nice weight': 4, 'neutral motif': 4, 'cheap look': 3, 'tall boot': 3, 'smaller size': 13, 'looser fit': 3, 'short boot': 3, 'cute love': 3, 'comfy dress': 3, 'great style': 4, 'sure for': 6, 'medium petite': 5, 'fit fine': 4, 'right size': 3, 'beautiful pattern': 3, 'great buy': 3, 'unique style': 3, 'several compliment': 4, 'bottom half': 4, 'small chest': 4, 'athletic build': 6, 'usual size': 13, 'versatile dress': 4, 'other reviewer': 3, 'elastic waist': 3, 'odd fit': 5, 'upper arm': 5, 'elastic band': 3, 'little dress': 3, 'hot weather': 3, 'little bite': 10, 'many ways': 4, 'broad shoulder': 15, 'gorgeous color': 4, 'blue color': 11, 'same size': 4, 'right length': 5, 'next size': 5, 'more dress': 3, 'wide shoulder': 3, 'comfortable fabric': 3, 'comfy fit': 3, 'great fit': 7, 'great job': 3, 'loose dress': 3, 'previous review': 5, 'unique dress': 3, 'different body': 3, 'pink dress': 3, 'pink color': 4, 'entire dress': 3, 'in dress': 3, 'wonderful color': 3, 'adorable dress': 7, 'only thing': 3, 'much material': 6, 'light airy': 3, 'appropriate work': 3, 'favorite dress': 11, 'large bite': 3, 'best dress': 3, 'good part': 3, 'top part': 9, 'awesome dress': 3, 'blue version': 3, 'flatter fit': 3, 'didn t': 3, 'small waist': 4, 'regular length': 4, 'more shape': 3, 'bright color': 4, 'bigger size': 3, 'larger size': 3, 'extra room': 4, 'terrible zipper': 3, 'little room': 5, 'great concept': 3, 'beautiful material': 3, 'long torso': 3, 'flatter way': 3, 'beautiful quality': 3, 'extra fabric': 3, 'usual medium': 4, 'nice quality': 4, 'bridal shower': 3, 'white dress': 3}\n"
     ]
    }
   ],
   "source": [
    "# filter out elements with <= 2 counts\n",
    "filtered_labels = dict(filter(lambda x: labels[x[0]] >= 3, labels.items() ))\n",
    "print(filtered_labels)"
   ]
  },
  {
   "cell_type": "code",
   "execution_count": 15,
   "metadata": {},
   "outputs": [
    {
     "data": {
      "text/plain": [
       "196"
      ]
     },
     "execution_count": 15,
     "metadata": {},
     "output_type": "execute_result"
    }
   ],
   "source": [
    "len(filtered_labels)"
   ]
  },
  {
   "cell_type": "markdown",
   "metadata": {},
   "source": [
    "# Creating aand filtering lables"
   ]
  },
  {
   "cell_type": "code",
   "execution_count": 16,
   "metadata": {},
   "outputs": [
    {
     "name": "stderr",
     "output_type": "stream",
     "text": [
      "c:\\Users\\prish\\AppData\\Local\\Programs\\Python\\Python311\\Lib\\site-packages\\tqdm\\auto.py:21: TqdmWarning: IProgress not found. Please update jupyter and ipywidgets. See https://ipywidgets.readthedocs.io/en/stable/user_install.html\n",
      "  from .autonotebook import tqdm as notebook_tqdm\n"
     ]
    }
   ],
   "source": [
    "# filter out labels with relation to [\"e-commerce\",\"cloth\"] < 0.2 and synonyms already present by checking list \n",
    "# function declarations -> filter out labels with relation to 'target words' [\"e-commerce\",\"dress\",\"product\"] <= 0.35 and eliminatinng synonynous pairs\n",
    "from sentence_transformers import SentenceTransformer, util \n",
    "import numpy as np \n",
    "from nltk.corpus import wordnet\n",
    "\n",
    "\n",
    "model = SentenceTransformer('all-MiniLM-L6-v2')\n",
    "def synonym_text(word):\n",
    "       synonyms = [word]\n",
    "       for syn in wordnet.synsets(word):\n",
    "              for lm in syn.lemmas():\n",
    "                     synonyms.append(lm.name())\n",
    "       return list(set(synonyms))\n",
    "\n",
    "final_label_list_split = []\n",
    "def similarity_context(label):\n",
    "       cos_sim = util.cos_sim(model.encode([\"ecommerce\",\"product\",\"dress\"]), model.encode(label))\n",
    "       cos_sim = [float(x) for x in cos_sim]\n",
    "       return max(cos_sim)\n",
    "       \n",
    "\n",
    "def synonym_labels(label):      \n",
    "       cos_sim_2 = [0]\n",
    "       adj,topic = label[0].split(' ')\n",
    "       if final_label_list_split != []:\n",
    "              for x in final_label_list_split:\n",
    "                     if x[0] in synonym_text(adj) and x[1] in synonym_text(topic):\n",
    "                            return False\n",
    "                     \n",
    "       if  similarity_context(label[0])>0.35:\n",
    "              final_label_list_split.append((adj,topic))\n",
    "              return True\n",
    "       else:\n",
    "              return False\n",
    "       "
   ]
  },
  {
   "cell_type": "code",
   "execution_count": 17,
   "metadata": {},
   "outputs": [
    {
     "name": "stdout",
     "output_type": "stream",
     "text": [
      "['comfy dress', 'comfortable dress', 'more dress', 'fun dress', 'fit dress', 'in dress', 'casual dress', 'simple dress', 'other dress', 'pretty dress', 'most dress', 'loose dress', 'new dress', 'best dress', 'good dress', 'perfect dress', 'white dress', 'cute dress', 'unique dress', 'feminine dress', 'pink dress', 'versatile dress', 'tunic dress', 'easy dress', 'blue dress', 'adorable dress', 'flatter dress', 'super dress', 'beautiful dress', 'entire dress', 'little dress', 'favorite dress', 'maxi dress', 'lovely dress', 'nice dress', 'knit dress', 'great dress', 'gorgeous dress', 'awesome dress', 'fit style', 'jean jacket', 'local retailer', 'long torso', 'fit be', 'comfy fit', 'comfortable fabric', 'sheer sleeves', 'pretty fabric', 'small waist', 'loose fit', 'local store', 'great buy', 'larger size', 'real life', 'top part', 'much material', 'full price', 'high quality', 'small size', 'small fit', 'much fabric', 'appropriate work', 'unique style', 'medium fit', 'looser fit', 'bigger size', 'different body', 'beautiful material', 'extra fabric', 'nice detail', 'great length', 'elastic waist', 'fit perfect', 'smaller size', 'beautiful fabric', 'beautiful detail', 'great fabric', 'nice fabric', 'large bust', 'long sleeves', 'good part', 'bridal shower', 'high heel', 'fit sleeves', 'fit fine', 'soft material', 'bright color', 'perfect fit', 'same size', 'bad fit', 'different size', 'blue color', 'only thing', 'short length', 'great concept', 'blue one', 'upper arm', 'little bite', 'pink color', 'other reviewers', 'great style', 'wonderful color', 'only complaint', 'other color', 'good quality', 'large bite', 'cheap look', 'great piece', 'first sight', 'nice style', 'several compliment', 'petite size', 'beautiful quality', 'many ways', 'perfect length', 'many people', 'large chest', 'right length', 'soft fabric', 'small chest', 'next size', 'little tight', 'more color', 'many compliment', 'great quality', 'upper body', 'terrible zipper', 'mid thigh', 'brown boot', 'little large', 'red color', 'comfortable flatter', 'more shape', 'other pattern', 'little snug', 'neutral color', 'great color', 'great job', 'gorgeous detail', 'wide shoulder', 'tall boot', 'blue version', 'little room', 'beautiful pattern', 'small petite', 'light airy', 'great fit', 'medium petite', 'new favorite', 'few inch', 'more room', 'beautiful color', 'light weight', 'small frame', 'athletic build', 'nice quality', 'nice touch', 'right size', 'odd fit', 'other reviewer', 'loose bite', 'regular s', 'nice weight', 'cute love', 'usual medium', 'same time', 'only problem', 'bottom half', 'regular size', 'next year', 'broad shoulder', 'flatter fit', 'regular length', 'previous review', 'didn t', 'sure for', 'other review', 'blue motif', 'usual size', 'gorgeous color', 'extra room', 'typical size', 'hot weather', 'first day', 'elastic band', 'unflattering way', 'normal size', 'fit flare', 'short boot', 'regular xs', 'flatter way', 'first time', 'good way', 'right place', 'outer layer', 'neutral motif']\n",
      "Filtered labels post semantic checks:  ['comfy dress', 'more dress', 'fun dress', 'fit dress', 'in dress', 'casual dress', 'simple dress', 'other dress', 'pretty dress', 'most dress', 'loose dress', 'new dress', 'best dress', 'good dress', 'perfect dress', 'white dress', 'cute dress', 'unique dress', 'feminine dress', 'pink dress', 'versatile dress', 'tunic dress', 'blue dress', 'adorable dress', 'flatter dress', 'super dress', 'beautiful dress', 'entire dress', 'little dress', 'favorite dress', 'maxi dress', 'nice dress', 'knit dress', 'great dress', 'gorgeous dress', 'awesome dress', 'fit style', 'jean jacket', 'local retailer', 'long torso', 'fit be', 'comfy fit', 'comfortable fabric', 'sheer sleeves', 'pretty fabric', 'small waist', 'loose fit', 'local store', 'great buy', 'larger size', 'real life', 'top part', 'much material', 'full price', 'high quality', 'small size', 'small fit', 'appropriate work', 'unique style', 'medium fit', 'different body', 'beautiful material', 'extra fabric', 'nice detail', 'great length', 'elastic waist', 'fit perfect', 'beautiful detail', 'great fabric', 'nice fabric', 'large bust', 'long sleeves']\n",
      "Length of filtered labels after similarity with online dresses and synonyms grouping: 72\n"
     ]
    }
   ],
   "source": [
    "# preparation for filtering out labels based on  relevance \n",
    "# sorting labels based on thier similarity, so we encounter most contextual relevant (symentically close to target words) first and eliminate their synonyms \n",
    "sorted_labels = sorted(filtered_labels, key= similarity_context,reverse=True)\n",
    "print(sorted_labels)\n",
    "for i in range(len(sorted_labels)):\n",
    "    sorted_labels[i] = (sorted_labels[i],filtered_labels[sorted_labels[i]])\n",
    "# Filtering out labels based on  relevance\n",
    "final_label_list_split = []\n",
    "sim_filtered_labels = dict(filter(synonym_labels, sorted_labels ))\n",
    "print(\"Filtered labels post semantic checks: \",list(sim_filtered_labels.keys()))\n",
    "print(\"Length of filtered labels after similarity with online dresses and synonyms grouping:\",len(sim_filtered_labels))\n",
    "\n"
   ]
  },
  {
   "cell_type": "code",
   "execution_count": 18,
   "metadata": {},
   "outputs": [],
   "source": [
    "# Creating a dict based final label based final_label_list_split \n",
    "# dict key-> topic(head of adjective) , value -> dict with label values, synonyms to topic and encoder to all labels (to be used later)\n",
    "\n",
    "\n",
    "final_labels = dict()\n",
    "for adj,topic in final_label_list_split:\n",
    "    if topic not in final_labels:\n",
    "        final_labels[topic] = { 'synonyms': synonym_text(topic) ,\"labels\" : [adj+ \" \" +topic]}\n",
    "    else:\n",
    "        final_labels[topic]['labels'].append(adj+ \" \" +topic)"
   ]
  },
  {
   "cell_type": "code",
   "execution_count": 19,
   "metadata": {},
   "outputs": [],
   "source": [
    "for topic in final_labels:\n",
    "    final_labels[topic]['encoder'] = model.encode(final_labels[topic]['labels'] )"
   ]
  },
  {
   "cell_type": "markdown",
   "metadata": {},
   "source": [
    "# Trying test run in the data to see if we are getting sensible results."
   ]
  },
  {
   "cell_type": "code",
   "execution_count": 20,
   "metadata": {},
   "outputs": [],
   "source": [
    "topic_list = list(final_labels.keys())\n",
    "\n",
    "result_list=[ [] for x in corpus]\n",
    "\n",
    "\n",
    "for index in range(len(corpus)):\n",
    "# using division, dept and class to get little more relevant to topic  \n",
    "    joint_feedback = corpus[index]\n",
    "\n",
    "    if joint_feedback != \"\":\n",
    "        split_feedback = joint_feedback.split(' ')\n",
    "        encoded_feedback = model.encode(joint_feedback)\n",
    "        \n",
    "        # following code loops through synonyms of all topics present in 'final_labels', \n",
    "        # if any topic / synonym is present -> we shall use cosine similarity to find most semantically similar label\n",
    "        \n",
    "        for t in topic_list:\n",
    "            synonyms_t = synonym_text(t)\n",
    "            for synonym_t in final_labels[t]['synonyms']:\n",
    "                if synonym_t in split_feedback:\n",
    "                    \n",
    "                    # encoder and cofidence testing \n",
    "                    winners = []\n",
    "                    cos_sim = util.cos_sim(encoded_feedback,final_labels[t]['encoder'])\n",
    "                    for arr in cos_sim:\n",
    "                        for i, each_val in enumerate(arr):\n",
    "                            winners.append([final_labels[t]['labels'][i],each_val])\n",
    "\n",
    "                    label = sorted(winners, key=lambda x: x[1], reverse=True)[0][0]\n",
    "                    confidence = sorted(winners, key=lambda x: x[1], reverse=True)[0][1]\n",
    "                    if confidence > 0.4:\n",
    "                        result_list[index].append(label)\n",
    "                    break\n",
    "\n",
    "        if result_list[index] == [] :\n",
    "            # Edge case handing for no context label found / no context label above confidence threshold   \n",
    "            result_list[index] = \"Context not found\"\n",
    "        else:\n",
    "            result_list[index] = '|'.join(result_list[index])\n",
    "    else:\n",
    "        # Edge case handing for no text feedback given\n",
    "        result_list[index] = \"No text to analyse\"\n",
    "    \n",
    "    "
   ]
  },
  {
   "cell_type": "code",
   "execution_count": 21,
   "metadata": {},
   "outputs": [],
   "source": [
    "df['Context Labels'] = result_list\n",
    "df.to_csv('trial_run_1078.csv',index=False,header=True)"
   ]
  }
 ],
 "metadata": {
  "kernelspec": {
   "display_name": "Python 3",
   "language": "python",
   "name": "python3"
  },
  "language_info": {
   "codemirror_mode": {
    "name": "ipython",
    "version": 3
   },
   "file_extension": ".py",
   "mimetype": "text/x-python",
   "name": "python",
   "nbconvert_exporter": "python",
   "pygments_lexer": "ipython3",
   "version": "3.11.1"
  },
  "orig_nbformat": 4
 },
 "nbformat": 4,
 "nbformat_minor": 2
}
